{
 "cells": [
  {
   "cell_type": "code",
   "execution_count": 6,
   "id": "68f76d60-d95f-4108-9f50-0f799272a89f",
   "metadata": {},
   "outputs": [],
   "source": [
    "import pandas as pd\n",
    "import anndata\n",
    "from scipy.sparse import csr_matrix\n",
    "import numpy as np\n",
    "import scanpy as sc\n",
    "import scanpy.external as sce\n",
    "from scipy.sparse import csr_matrix, isspmatrix"
   ]
  },
  {
   "cell_type": "code",
   "execution_count": 7,
   "id": "504558a5-17fd-458c-813e-951d9f8f5400",
   "metadata": {},
   "outputs": [
    {
     "ename": "NameError",
     "evalue": "name 'os' is not defined",
     "output_type": "error",
     "traceback": [
      "\u001b[1;31m---------------------------------------------------------------------------\u001b[0m",
      "\u001b[1;31mNameError\u001b[0m                                 Traceback (most recent call last)",
      "Cell \u001b[1;32mIn[7], line 8\u001b[0m\n\u001b[0;32m      5\u001b[0m sparse_matrix \u001b[38;5;241m=\u001b[39m csr_matrix(expression_matrix\u001b[38;5;241m.\u001b[39mvalues)\n\u001b[0;32m      7\u001b[0m \u001b[38;5;66;03m# Load cell and gene metadata (if available)\u001b[39;00m\n\u001b[1;32m----> 8\u001b[0m cell_metadata \u001b[38;5;241m=\u001b[39m pd\u001b[38;5;241m.\u001b[39mread_csv(\u001b[38;5;124m\"\u001b[39m\u001b[38;5;124mZ:/dmclab/Marta/Combined_snRNAseq/cell_metadata.csv\u001b[39m\u001b[38;5;124m\"\u001b[39m) \u001b[38;5;28;01mif\u001b[39;00m \u001b[38;5;124m\"\u001b[39m\u001b[38;5;124mcell_metadata.csv\u001b[39m\u001b[38;5;124m\"\u001b[39m \u001b[38;5;129;01min\u001b[39;00m \u001b[43mos\u001b[49m\u001b[38;5;241m.\u001b[39mlistdir() \u001b[38;5;28;01melse\u001b[39;00m \u001b[38;5;28;01mNone\u001b[39;00m\n\u001b[0;32m      9\u001b[0m gene_metadata \u001b[38;5;241m=\u001b[39m pd\u001b[38;5;241m.\u001b[39mread_csv(\u001b[38;5;124m\"\u001b[39m\u001b[38;5;124mZ:/dmclab/Marta/Combined_snRNAseq/gene_metadata.csv\u001b[39m\u001b[38;5;124m\"\u001b[39m) \u001b[38;5;28;01mif\u001b[39;00m \u001b[38;5;124m\"\u001b[39m\u001b[38;5;124mgene_metadata.csv\u001b[39m\u001b[38;5;124m\"\u001b[39m \u001b[38;5;129;01min\u001b[39;00m os\u001b[38;5;241m.\u001b[39mlistdir() \u001b[38;5;28;01melse\u001b[39;00m \u001b[38;5;28;01mNone\u001b[39;00m\n\u001b[0;32m     11\u001b[0m \u001b[38;5;66;03m# Create AnnData object\u001b[39;00m\n",
      "\u001b[1;31mNameError\u001b[0m: name 'os' is not defined"
     ]
    }
   ],
   "source": [
    "\n",
    "\n",
    "# Load the expression matrix\n",
    "expression_matrix = pd.read_csv(\"Z:/dmclab/Marta/Combined_snRNAseq/expression_matrix.csv\", index_col=0)\n",
    "\n",
    "# Convert to a sparse matrix to save space\n",
    "sparse_matrix = csr_matrix(expression_matrix.values)\n"
   ]
  },
  {
   "cell_type": "code",
   "execution_count": 14,
   "id": "4932d49a-6e3d-413e-aa3f-147abbeca277",
   "metadata": {},
   "outputs": [],
   "source": [
    "import pandas as pd\n",
    "from scipy.sparse import csr_matrix\n",
    "\n",
    "\n",
    "# Transpose the matrix to ensure cell-by-gene format\n",
    "expression_matrix = expression_matrix.T\n",
    "\n",
    "# Convert to a sparse matrix to save space\n",
    "sparse_matrix = csr_matrix(expression_matrix.values)\n"
   ]
  },
  {
   "cell_type": "code",
   "execution_count": 15,
   "id": "93f2ddd8-b379-456a-b9a3-493a74ebf025",
   "metadata": {},
   "outputs": [
    {
     "name": "stdout",
     "output_type": "stream",
     "text": [
      "Rows (cells): Index(['AAACCCAAGCCTAGGA-1_1_1', 'AAACCCACAAACACCT-1_1_1',\n",
      "       'AAACCCACAACGAGGT-1_1_1', 'AAACCCACAAGCAATA-1_1_1',\n",
      "       'AAACCCAGTACGAAAT-1_1_1'],\n",
      "      dtype='object')\n",
      "Columns (genes): Index(['Xkr4', 'Gm1992', 'Gm19938', 'Lypla1', 'Tcea1'], dtype='object')\n"
     ]
    }
   ],
   "source": [
    "print(\"Rows (cells):\", expression_matrix.index[:5])  # First 5 row names (should be cell IDs)\n",
    "print(\"Columns (genes):\", expression_matrix.columns[:5])  # First 5 column names (should be gene names)\n"
   ]
  },
  {
   "cell_type": "code",
   "execution_count": 25,
   "id": "a46cef61-246f-4e34-8f2c-f05c229f7718",
   "metadata": {},
   "outputs": [],
   "source": [
    "\n",
    "# Load cell and gene metadata (if available)\n",
    "obs = pd.read_csv(\"Z:/dmclab/Marta/Combined_snRNAseq/cell_metadata.csv\") \n",
    "var = pd.read_csv(\"Z:/dmclab/Marta/Combined_snRNAseq/gene_metadata.csv\") \n",
    "\n",
    "\n"
   ]
  },
  {
   "cell_type": "raw",
   "id": "3a5e6fe2-5d84-4d11-b64a-2018d28567c9",
   "metadata": {},
   "source": [
    "\n",
    "exons.rename({exons.columns[0]: 'sample_id'}, axis=1, inplace=True) \n",
    "count_matrix = exons[exons.columns[1:]].to_numpy()\n",
    "\n",
    "# Store sample-based metadata in a dataframe called obs\n",
    "sample_ids = exons['sample_id']\n",
    "\n",
    "obs = pd.DataFrame(\n",
    "     [{'sample_id': s} for s in sample_ids]).set_index('sample_id')\n",
    "\n",
    "# Store gene-based metadata in a dataframe called var\n",
    "var = pd.DataFrame(\n",
    "    [{'gene_symbol': g} for g in exons.columns[1:]]).set_index('gene_symbol')"
   ]
  },
  {
   "cell_type": "code",
   "execution_count": 28,
   "id": "e906b28d-09c1-4da6-a618-cd7647b49778",
   "metadata": {},
   "outputs": [],
   "source": [
    "\n",
    "# Import libraries\n",
    "import anndata\n",
    "import os\n",
    "import scipy.sparse\n",
    "\n",
    "# Convert count matrix to a CSR (row-based access) sparse matrix and save in anndata format. \t\t\n",
    "#count_matrix = scipy.sparse.csr_matrix(count_matrix)\n",
    "ad = anndata.AnnData(\n",
    "     X=expression_matrix,\n",
    ")\t \n",
    "\n",
    "# Write to your location of choice using compression\n",
    "output_path = 'Z:/dmclab/Marta/Combined_snRNAseq/new_adata_for_MapMyCells.h5ad'\n",
    "\n",
    "ad.write_h5ad(output_path, compression='gzip')"
   ]
  },
  {
   "cell_type": "code",
   "execution_count": 23,
   "id": "f90620a3-ef6c-4532-81d9-db44f2ae5f6f",
   "metadata": {},
   "outputs": [
    {
     "name": "stdout",
     "output_type": "stream",
     "text": [
      "Matrix shape (cells x genes): (149951, 6578)\n",
      "Cell metadata (obs):                cell_names\n",
      "0  AAACCCAAGCCTAGGA-1_1_1\n",
      "1  AAACCCACAAACACCT-1_1_1\n",
      "2  AAACCCACAACGAGGT-1_1_1\n",
      "3  AAACCCACAAGCAATA-1_1_1\n",
      "4  AAACCCAGTACGAAAT-1_1_1\n",
      "Gene metadata (var):   gene_names\n",
      "0       Xkr4\n",
      "1     Gm1992\n",
      "2    Gm19938\n",
      "3     Lypla1\n",
      "4      Tcea1\n"
     ]
    }
   ],
   "source": [
    "import scanpy as sc\n",
    "\n",
    "# Check the shape of the matrix\n",
    "print(\"Matrix shape (cells x genes):\", ad.shape)\n",
    "\n",
    "# Inspect the metadata\n",
    "print(\"Cell metadata (obs):\", ad.obs.head())\n",
    "print(\"Gene metadata (var):\", ad.var.head())\n"
   ]
  },
  {
   "cell_type": "code",
   "execution_count": null,
   "id": "07294864-defb-4e23-ad2b-850d5443b013",
   "metadata": {},
   "outputs": [],
   "source": []
  }
 ],
 "metadata": {
  "kernelspec": {
   "display_name": "Python 3 (ipykernel)",
   "language": "python",
   "name": "python3"
  },
  "language_info": {
   "codemirror_mode": {
    "name": "ipython",
    "version": 3
   },
   "file_extension": ".py",
   "mimetype": "text/x-python",
   "name": "python",
   "nbconvert_exporter": "python",
   "pygments_lexer": "ipython3",
   "version": "3.10.9"
  },
  "toc-autonumbering": true,
  "toc-showcode": false,
  "toc-showmarkdowntxt": false
 },
 "nbformat": 4,
 "nbformat_minor": 5
}
