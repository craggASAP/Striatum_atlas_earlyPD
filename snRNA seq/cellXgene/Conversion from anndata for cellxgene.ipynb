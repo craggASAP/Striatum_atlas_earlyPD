{
 "cells": [
  {
   "cell_type": "code",
   "execution_count": 2,
   "id": "00a1be63-9900-4723-8bc0-c85a6d284361",
   "metadata": {},
   "outputs": [],
   "source": [
    "# Install necessary packages (if not already installed)\n",
    "# Uncomment the next line to install\n",
    "# !pip install anndata numpy scipy\n",
    "\n",
    "import anndata as ad\n",
    "import numpy as np\n",
    "import scipy.sparse as sp"
   ]
  },
  {
   "cell_type": "code",
   "execution_count": 12,
   "id": "d9c92c0d-abbf-4251-b9e5-d7442d4c5cee",
   "metadata": {},
   "outputs": [
    {
     "name": "stdout",
     "output_type": "stream",
     "text": [
      "Observation-level metadata (adata.obs):\n",
      "Index(['orig.ident', 'nCount_RNA', 'nFeature_RNA', 'Sample_group', 'S.Score',\n",
      "       'G2M.Score', 'Phase', 'Experiment_ID', 'percent_mt', 'log10GenesPerUMI',\n",
      "       'pANN_0.25_0.29_1421', 'DF.classifications_0.25_0.29_1421',\n",
      "       'nCount_SCT', 'nFeature_SCT', 'pANN', 'pANN_0.25_0.3_3439',\n",
      "       'DF.classifications_0.25_0.3_3439', 'pANN_0.25_0.005_3680',\n",
      "       'DF.classifications_0.25_0.005_3680', 'pANN_0.25_0.29_1212',\n",
      "       'DF.classifications_0.25_0.29_1212', 'pANN_0.25_0.3_1151',\n",
      "       'DF.classifications_0.25_0.3_1151', 'pANN_0.25_0.22_266',\n",
      "       'DF.classifications_0.25_0.22_266', 'pANN_0.25_0.3_280',\n",
      "       'DF.classifications_0.25_0.3_280', 'pANN_0.25_0.17_218',\n",
      "       'DF.classifications_0.25_0.17_218', 'pANN_0.25_0.01_60',\n",
      "       'DF.classifications_0.25_0.01_60', 'pANN_0.25_0.23_189',\n",
      "       'DF.classifications_0.25_0.23_189', 'pANN_0.25_0.3_302',\n",
      "       'DF.classifications_0.25_0.3_302', 'pANN_0.25_0.19_201',\n",
      "       'DF.classifications_0.25_0.19_201', 'pANN_0.25_0.26_199',\n",
      "       'DF.classifications_0.25_0.26_199', 'pANN_0.25_0.3_39',\n",
      "       'DF.classifications_0.25_0.3_39', 'pANN_0.25_0.3_415',\n",
      "       'DF.classifications_0.25_0.3_415', 'pANN_0.25_0.005_1480',\n",
      "       'DF.classifications_0.25_0.005_1480', 'pANN_0.25_0.3_142',\n",
      "       'DF.classifications_0.25_0.3_142', 'pANN_0.25_0.22_994',\n",
      "       'DF.classifications_0.25_0.22_994', 'pANN_0.25_0.3_33',\n",
      "       'DF.classifications_0.25_0.3_33', 'graph_afterHarmony_res.0.4',\n",
      "       'seurat_clusters', 'class_label', 'class_name',\n",
      "       'class_correlation_coefficient', 'subclass_label', 'subclass_name',\n",
      "       'subclass_correlation_coefficient', 'supertype_label', 'supertype_name',\n",
      "       'supertype_correlation_coefficient', 'cluster_label', 'cluster_name',\n",
      "       'cluster_alias', 'cluster_correlation_coefficient', 'cluster_name2',\n",
      "       'clusters', 'donor_id', 'organism_ontology_term_id',\n",
      "       'tissue_ontology_term_id', 'development_stage_ontology_term_id',\n",
      "       'sex_ontology_term_id', 'tissue_type', 'suspension_type',\n",
      "       'nCount_raw.X', 'nFeature_raw.X', 'nCount_sct.X', 'nFeature_sct.X',\n",
      "       'cell_type_ontology_term_id'],\n",
      "      dtype='object')\n",
      "\n",
      "Variable-level metadata (adata.var):\n",
      "Index(['features', 'raw.X_features'], dtype='object')\n"
     ]
    }
   ],
   "source": [
    "# Load the h5ad file\n",
    "input_file = \"Z:/dmclab/Marta/PD/Combined_snRNAseq/data/seurat_obj_forcellxegene.h5ad\"\n",
    "adata = ad.read_h5ad(input_file)\n",
    "\n",
    "# Check the observation-level metadata (rows) \n",
    "print(\"Observation-level metadata (adata.obs):\")\n",
    "print(adata.obs.columns)\n",
    "\n",
    "# Check the variable-level metadata (columns) \n",
    "print(\"\\nVariable-level metadata (adata.var):\")\n",
    "print(adata.var.columns)"
   ]
  },
  {
   "cell_type": "code",
   "execution_count": 13,
   "id": "eaa3af13-6b7e-4519-8d7b-7dd055bffa3b",
   "metadata": {},
   "outputs": [
    {
     "name": "stdout",
     "output_type": "stream",
     "text": [
      "Conversion to float32 done.\n"
     ]
    }
   ],
   "source": [
    "# 1. Store matrix data as float32 instead of float64\n",
    "# This reduces memory usage by half for numerical data\n",
    "# Convert to float32 if currently float64\n",
    "if adata.X.dtype == np.float64:\n",
    "    adata.X = adata.X.astype(np.float32)\n",
    "    print(\"Conversion to float32 done.\")"
   ]
  },
  {
   "cell_type": "code",
   "execution_count": 14,
   "id": "c2fba084-a5e4-4d85-91be-9e003e2805c3",
   "metadata": {},
   "outputs": [],
   "source": [
    "# 2. Convert metadata columns (obs and var) to 32-bit where possible\n",
    "# This reduces memory for integer metadata\n",
    "for col in adata.obs.select_dtypes(include=[np.int64]).columns:\n",
    "    adata.obs[col] = adata.obs[col].astype(np.int32)\n",
    "    \n",
    "for col in adata.var.select_dtypes(include=[np.int64]).columns:\n",
    "    adata.var[col] = adata.var[col].astype(np.int32)"
   ]
  },
  {
   "cell_type": "code",
   "execution_count": 15,
   "id": "abade209-28f1-4f96-b07c-1513fafaade9",
   "metadata": {},
   "outputs": [],
   "source": [
    "# 3. Convert string columns to categorical\n",
    "# Categoricals are stored more efficiently than strings\n",
    "for col in adata.obs.select_dtypes(include=[object]).columns:\n",
    "    adata.obs[col] = adata.obs[col].astype('category')\n",
    "    \n",
    "for col in adata.var.select_dtypes(include=[object]).columns:\n",
    "    adata.var[col] = adata.var[col].astype('category')"
   ]
  },
  {
   "cell_type": "code",
   "execution_count": 16,
   "id": "f18e7d1c-f6f5-42ab-9285-1ef552369770",
   "metadata": {},
   "outputs": [],
   "source": [
    "# 5. Ensure X and raw.X are stored as sparse matrices if >50% zeros\n",
    "# This saves space by efficiently storing sparse data\n",
    "\n",
    "# Check and convert X\n",
    "if isinstance(adata.X, np.ndarray) and (np.mean(adata.X == 0) > 0.5):\n",
    "    adata.X = sp.csr_matrix(adata.X)\n",
    "\n",
    "# Check and convert raw.X if raw is present\n",
    "if adata.raw is not None:\n",
    "    if isinstance(adata.raw.X, np.ndarray) and (np.mean(adata.raw.X == 0) > 0.5):\n",
    "        adata.raw.X = sp.csr_matrix(adata.raw.X)"
   ]
  },
  {
   "cell_type": "code",
   "execution_count": null,
   "id": "301b138d-b3d0-4789-95d8-c2376135641c",
   "metadata": {},
   "outputs": [],
   "source": [
    "# 6. Save the reduced h5ad file using gzip compression\n",
    "output_file = \"Z:/dmclab/Marta/PD/Combined_snRNAseq/data/seurat_obj_forcellxegene_reeduced.h5ad\"\n",
    "adata.write_h5ad(output_file, compression='gzip')\n",
    "\n",
    "print(\"Reduced file saved at:\", output_file)"
   ]
  },
  {
   "cell_type": "code",
   "execution_count": null,
   "id": "75671e3a-82d0-47bb-b5b1-862c9d7977a2",
   "metadata": {},
   "outputs": [
    {
     "name": "stdout",
     "output_type": "stream",
     "text": [
      "UMAP not found. Calculating UMAP...\n"
     ]
    }
   ],
   "source": [
    "import scanpy as sc\n",
    "import matplotlib.pyplot as plt\n",
    "\n",
    "# Check and rename the UMAP embedding if it exists\n",
    "if 'umap_after_harmony' in adata.obsm:\n",
    "    adata.obsm['X_umap'] = adata.obsm['umap_after_harmony']\n",
    "    print(\"UMAP coordinates found and renamed for plotting.\")\n",
    "\n",
    "    # Plot the UMAP, coloring by a metadata column\n",
    "    sc.pl.umap(adata, color='cell_type')  # Replace 'cell_type' with your preferred column\n",
    "    plt.show()\n",
    "else:\n",
    "    print(\"UMAP coordinates 'umap_after_harmony' not found.\")\n",
    "\n"
   ]
  },
  {
   "cell_type": "code",
   "execution_count": null,
   "id": "94527a47-94ba-44b3-8364-2711e3e811cb",
   "metadata": {},
   "outputs": [],
   "source": []
  }
 ],
 "metadata": {
  "kernelspec": {
   "display_name": "Python 3 (ipykernel)",
   "language": "python",
   "name": "python3"
  },
  "language_info": {
   "codemirror_mode": {
    "name": "ipython",
    "version": 3
   },
   "file_extension": ".py",
   "mimetype": "text/x-python",
   "name": "python",
   "nbconvert_exporter": "python",
   "pygments_lexer": "ipython3",
   "version": "3.10.9"
  },
  "toc-autonumbering": false,
  "toc-showcode": false,
  "toc-showmarkdowntxt": true
 },
 "nbformat": 4,
 "nbformat_minor": 5
}
